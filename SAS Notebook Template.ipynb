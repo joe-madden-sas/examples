{
 "cells": [
  {
   "cell_type": "markdown",
   "metadata": {
    "nteract": {
     "transient": {
      "deleting": false
     }
    }
   },
   "source": [
    "# SAS Notebook Template\n",
    "\n",
    "Thank you for choosing SAS! This notebook is a minimalist tool to access your SAS Viya Resources\n",
    "\n",
    "Questions or have feedback? Get in touch with us [here](https://www.sas.com/en_us/contact.html)"
   ]
  },
  {
   "cell_type": "markdown",
   "metadata": {
    "nteract": {
     "transient": {
      "deleting": false
     }
    }
   },
   "source": [
    "#### Configure Notebook Environment\n",
    "Select the 'Python 3' Kernel \n",
    "\n",
    "Open the terminal and run the following command  \n",
    "```\n",
    "pip install swat\n",
    "```"
   ]
  },
  {
   "cell_type": "markdown",
   "metadata": {
    "nteract": {
     "transient": {
      "deleting": false
     }
    }
   },
   "source": [
    "#### Import modules, variable assignment"
   ]
  },
  {
   "cell_type": "code",
   "execution_count": 1,
   "metadata": {
    "gather": {
     "logged": 1650562449202
    },
    "jupyter": {
     "outputs_hidden": false,
     "source_hidden": false
    },
    "nteract": {
     "transient": {
      "deleting": false
     }
    }
   },
   "outputs": [],
   "source": [
    "import swat\n",
    "import getpass"
   ]
  },
  {
   "cell_type": "markdown",
   "metadata": {
    "nteract": {
     "transient": {
      "deleting": false
     }
    }
   },
   "source": [
    "#### Specify SAS Server Name"
   ]
  },
  {
   "cell_type": "code",
   "execution_count": 2,
   "metadata": {
    "gather": {
     "logged": 1650562452758
    },
    "jupyter": {
     "outputs_hidden": false,
     "source_hidden": false
    },
    "nteract": {
     "transient": {
      "deleting": false
     }
    }
   },
   "outputs": [],
   "source": [
    "sas_server_name = 'viya4msft.ondemand.sas.com'\n",
    "port_number = '443'"
   ]
  },
  {
   "cell_type": "markdown",
   "metadata": {
    "nteract": {
     "transient": {
      "deleting": false
     }
    }
   },
   "source": [
    "#### Generate Link to Retreive Authentication Code"
   ]
  },
  {
   "cell_type": "code",
   "execution_count": 3,
   "metadata": {
    "gather": {
     "logged": 1650566393377
    },
    "jupyter": {
     "outputs_hidden": false,
     "source_hidden": false
    },
    "nteract": {
     "transient": {
      "deleting": false
     }
    }
   },
   "outputs": [
    {
     "name": "stdout",
     "output_type": "stream",
     "text": [
      "Please navigate to the link below to retreive your authentication code:\n",
      "\u001b[0;1;30;43mhttps://viya4msft.ondemand.sas.com/SASLogon/oauth/authorize?client_id=SWAT&response_type=code\u001b[0m\n"
     ]
    }
   ],
   "source": [
    "sas_server_auth = '/SASLogon/oauth/authorize?client_id=SWAT&response_type=code'\n",
    "print('Please navigate to the link below to retreive your authentication code:\\n'+ '\\x1b[0;1;30;43m' + 'https://'  + sas_server_name + sas_server_auth + '\\x1b[0m')"
   ]
  },
  {
   "cell_type": "markdown",
   "metadata": {
    "nteract": {
     "transient": {
      "deleting": false
     }
    }
   },
   "source": [
    "#### Paste Authorization Code below and Click Submit"
   ]
  },
  {
   "cell_type": "code",
   "execution_count": 4,
   "metadata": {
    "gather": {
     "logged": 1650566397810
    },
    "jupyter": {
     "outputs_hidden": false,
     "source_hidden": false
    },
    "nteract": {
     "transient": {
      "deleting": false
     }
    }
   },
   "outputs": [
    {
     "name": "stdout",
     "output_type": "stream",
     "text": [
      "Authorization Code: ········\n"
     ]
    }
   ],
   "source": [
    "authcode = getpass.getpass('Authorization Code: ')"
   ]
  },
  {
   "cell_type": "markdown",
   "metadata": {
    "nteract": {
     "transient": {
      "deleting": false
     }
    }
   },
   "source": [
    "#### Create a Session\n",
    "Click [here](https://go.documentation.sas.com/doc/en/pgmcdc/8.11/casfun/p1wwz16igttqevn1sdej28ekf0f4.htm) to learn more about sessions\n"
   ]
  },
  {
   "cell_type": "code",
   "execution_count": 5,
   "metadata": {
    "gather": {
     "logged": 1650566402237
    },
    "jupyter": {
     "outputs_hidden": false,
     "source_hidden": false
    },
    "nteract": {
     "transient": {
      "deleting": false
     }
    }
   },
   "outputs": [
    {
     "name": "stderr",
     "output_type": "stream",
     "text": [
      "default backend - 404\n"
     ]
    },
    {
     "ename": "SWATError",
     "evalue": "Expecting value: line 1 column 1 (char 0)",
     "output_type": "error",
     "traceback": [
      "\u001b[0;31m---------------------------------------------------------------------------\u001b[0m",
      "\u001b[0;31mJSONDecodeError\u001b[0m                           Traceback (most recent call last)",
      "File \u001b[0;32m~/Documents/workspace/helloSAS/venv/lib/python3.9/site-packages/swat/cas/rest/connection.py:332\u001b[0m, in \u001b[0;36mREST_CASConnection.__init__\u001b[0;34m(self, hostname, port, username, password, soptions, error)\u001b[0m\n\u001b[1;32m    331\u001b[0m     txt \u001b[38;5;241m=\u001b[39m a2u(res\u001b[38;5;241m.\u001b[39mtext, \u001b[38;5;124m'\u001b[39m\u001b[38;5;124mutf-8\u001b[39m\u001b[38;5;124m'\u001b[39m)\n\u001b[0;32m--> 332\u001b[0m     out \u001b[38;5;241m=\u001b[39m \u001b[43mjson\u001b[49m\u001b[38;5;241;43m.\u001b[39;49m\u001b[43mloads\u001b[49m\u001b[43m(\u001b[49m\u001b[43mtxt\u001b[49m\u001b[43m,\u001b[49m\u001b[43m \u001b[49m\u001b[43mstrict\u001b[49m\u001b[38;5;241;43m=\u001b[39;49m\u001b[38;5;28;43;01mFalse\u001b[39;49;00m\u001b[43m)\u001b[49m\n\u001b[1;32m    333\u001b[0m \u001b[38;5;28;01mexcept\u001b[39;00m \u001b[38;5;167;01mException\u001b[39;00m:\n",
      "File \u001b[0;32m/Library/Frameworks/Python.framework/Versions/3.9/lib/python3.9/json/__init__.py:359\u001b[0m, in \u001b[0;36mloads\u001b[0;34m(s, cls, object_hook, parse_float, parse_int, parse_constant, object_pairs_hook, **kw)\u001b[0m\n\u001b[1;32m    358\u001b[0m     kw[\u001b[38;5;124m'\u001b[39m\u001b[38;5;124mparse_constant\u001b[39m\u001b[38;5;124m'\u001b[39m] \u001b[38;5;241m=\u001b[39m parse_constant\n\u001b[0;32m--> 359\u001b[0m \u001b[38;5;28;01mreturn\u001b[39;00m \u001b[38;5;28;43mcls\u001b[39;49m\u001b[43m(\u001b[49m\u001b[38;5;241;43m*\u001b[39;49m\u001b[38;5;241;43m*\u001b[39;49m\u001b[43mkw\u001b[49m\u001b[43m)\u001b[49m\u001b[38;5;241;43m.\u001b[39;49m\u001b[43mdecode\u001b[49m\u001b[43m(\u001b[49m\u001b[43ms\u001b[49m\u001b[43m)\u001b[49m\n",
      "File \u001b[0;32m/Library/Frameworks/Python.framework/Versions/3.9/lib/python3.9/json/decoder.py:337\u001b[0m, in \u001b[0;36mJSONDecoder.decode\u001b[0;34m(self, s, _w)\u001b[0m\n\u001b[1;32m    333\u001b[0m \u001b[38;5;124;03m\"\"\"Return the Python representation of ``s`` (a ``str`` instance\u001b[39;00m\n\u001b[1;32m    334\u001b[0m \u001b[38;5;124;03mcontaining a JSON document).\u001b[39;00m\n\u001b[1;32m    335\u001b[0m \n\u001b[1;32m    336\u001b[0m \u001b[38;5;124;03m\"\"\"\u001b[39;00m\n\u001b[0;32m--> 337\u001b[0m obj, end \u001b[38;5;241m=\u001b[39m \u001b[38;5;28;43mself\u001b[39;49m\u001b[38;5;241;43m.\u001b[39;49m\u001b[43mraw_decode\u001b[49m\u001b[43m(\u001b[49m\u001b[43ms\u001b[49m\u001b[43m,\u001b[49m\u001b[43m \u001b[49m\u001b[43midx\u001b[49m\u001b[38;5;241;43m=\u001b[39;49m\u001b[43m_w\u001b[49m\u001b[43m(\u001b[49m\u001b[43ms\u001b[49m\u001b[43m,\u001b[49m\u001b[43m \u001b[49m\u001b[38;5;241;43m0\u001b[39;49m\u001b[43m)\u001b[49m\u001b[38;5;241;43m.\u001b[39;49m\u001b[43mend\u001b[49m\u001b[43m(\u001b[49m\u001b[43m)\u001b[49m\u001b[43m)\u001b[49m\n\u001b[1;32m    338\u001b[0m end \u001b[38;5;241m=\u001b[39m _w(s, end)\u001b[38;5;241m.\u001b[39mend()\n",
      "File \u001b[0;32m/Library/Frameworks/Python.framework/Versions/3.9/lib/python3.9/json/decoder.py:355\u001b[0m, in \u001b[0;36mJSONDecoder.raw_decode\u001b[0;34m(self, s, idx)\u001b[0m\n\u001b[1;32m    354\u001b[0m \u001b[38;5;28;01mexcept\u001b[39;00m \u001b[38;5;167;01mStopIteration\u001b[39;00m \u001b[38;5;28;01mas\u001b[39;00m err:\n\u001b[0;32m--> 355\u001b[0m     \u001b[38;5;28;01mraise\u001b[39;00m JSONDecodeError(\u001b[38;5;124m\"\u001b[39m\u001b[38;5;124mExpecting value\u001b[39m\u001b[38;5;124m\"\u001b[39m, s, err\u001b[38;5;241m.\u001b[39mvalue) \u001b[38;5;28;01mfrom\u001b[39;00m \u001b[38;5;28mNone\u001b[39m\n\u001b[1;32m    356\u001b[0m \u001b[38;5;28;01mreturn\u001b[39;00m obj, end\n",
      "\u001b[0;31mJSONDecodeError\u001b[0m: Expecting value: line 1 column 1 (char 0)",
      "\nDuring handling of the above exception, another exception occurred:\n",
      "\u001b[0;31mSWATError\u001b[0m                                 Traceback (most recent call last)",
      "Input \u001b[0;32mIn [5]\u001b[0m, in \u001b[0;36m<module>\u001b[0;34m\u001b[0m\n\u001b[1;32m      1\u001b[0m conn_string \u001b[38;5;241m=\u001b[39m \u001b[38;5;124m'\u001b[39m\u001b[38;5;124mhttps://\u001b[39m\u001b[38;5;124m'\u001b[39m \u001b[38;5;241m+\u001b[39m sas_server_name \u001b[38;5;241m+\u001b[39m \u001b[38;5;124m'\u001b[39m\u001b[38;5;124m:\u001b[39m\u001b[38;5;124m'\u001b[39m \u001b[38;5;241m+\u001b[39m port_number \u001b[38;5;241m+\u001b[39m \u001b[38;5;124m'\u001b[39m\u001b[38;5;124m/cas-shared-default-http\u001b[39m\u001b[38;5;124m'\u001b[39m\n\u001b[0;32m----> 2\u001b[0m conn \u001b[38;5;241m=\u001b[39m \u001b[43mswat\u001b[49m\u001b[38;5;241;43m.\u001b[39;49m\u001b[43mCAS\u001b[49m\u001b[43m(\u001b[49m\u001b[43mconn_string\u001b[49m\u001b[43m,\u001b[49m\u001b[43m \u001b[49m\u001b[43mauthcode\u001b[49m\u001b[38;5;241;43m=\u001b[39;49m\u001b[43mauthcode\u001b[49m\u001b[43m)\u001b[49m\n\u001b[1;32m      3\u001b[0m \u001b[38;5;28mprint\u001b[39m(conn)\n",
      "File \u001b[0;32m~/Documents/workspace/helloSAS/venv/lib/python3.9/site-packages/swat/cas/connection.py:301\u001b[0m, in \u001b[0;36mCAS.__init__\u001b[0;34m(self, hostname, port, username, password, session, locale, nworkers, name, authinfo, protocol, **kwargs)\u001b[0m\n\u001b[1;32m    298\u001b[0m params \u001b[38;5;241m=\u001b[39m (hostname, \u001b[38;5;28mint\u001b[39m(port), a2n(username), a2n(password),\n\u001b[1;32m    299\u001b[0m           a2n(soptions), \u001b[38;5;28mself\u001b[39m\u001b[38;5;241m.\u001b[39m_sw_error)\n\u001b[1;32m    300\u001b[0m \u001b[38;5;28;01mif\u001b[39;00m protocol \u001b[38;5;129;01min\u001b[39;00m [\u001b[38;5;124m'\u001b[39m\u001b[38;5;124mhttp\u001b[39m\u001b[38;5;124m'\u001b[39m, \u001b[38;5;124m'\u001b[39m\u001b[38;5;124mhttps\u001b[39m\u001b[38;5;124m'\u001b[39m]:\n\u001b[0;32m--> 301\u001b[0m     \u001b[38;5;28mself\u001b[39m\u001b[38;5;241m.\u001b[39m_sw_connection \u001b[38;5;241m=\u001b[39m \u001b[43mrest\u001b[49m\u001b[38;5;241;43m.\u001b[39;49m\u001b[43mREST_CASConnection\u001b[49m\u001b[43m(\u001b[49m\u001b[38;5;241;43m*\u001b[39;49m\u001b[43mparams\u001b[49m\u001b[43m)\u001b[49m\n\u001b[1;32m    302\u001b[0m \u001b[38;5;28;01melse\u001b[39;00m:\n\u001b[1;32m    303\u001b[0m     \u001b[38;5;28mself\u001b[39m\u001b[38;5;241m.\u001b[39m_sw_connection \u001b[38;5;241m=\u001b[39m clib\u001b[38;5;241m.\u001b[39mSW_CASConnection(\u001b[38;5;241m*\u001b[39mparams)\n",
      "File \u001b[0;32m~/Documents/workspace/helloSAS/venv/lib/python3.9/site-packages/swat/cas/rest/connection.py:359\u001b[0m, in \u001b[0;36mREST_CASConnection.__init__\u001b[0;34m(self, hostname, port, username, password, soptions, error)\u001b[0m\n\u001b[1;32m    356\u001b[0m     \u001b[38;5;28mself\u001b[39m\u001b[38;5;241m.\u001b[39m_set_next_connection()\n\u001b[1;32m    358\u001b[0m \u001b[38;5;28;01mexcept\u001b[39;00m \u001b[38;5;167;01mException\u001b[39;00m \u001b[38;5;28;01mas\u001b[39;00m exc:\n\u001b[0;32m--> 359\u001b[0m     \u001b[38;5;28;01mraise\u001b[39;00m SWATError(\u001b[38;5;28mstr\u001b[39m(exc))\n",
      "\u001b[0;31mSWATError\u001b[0m: Expecting value: line 1 column 1 (char 0)"
     ]
    }
   ],
   "source": [
    "conn_string = 'https://' + sas_server_name + ':' + port_number + '/cas-shared-default-http'\n",
    "conn = swat.CAS(conn_string, authcode=authcode)\n",
    "print(conn)"
   ]
  },
  {
   "cell_type": "code",
   "execution_count": 10,
   "metadata": {
    "gather": {
     "logged": 1650566421118
    },
    "jupyter": {
     "outputs_hidden": false,
     "source_hidden": false
    },
    "nteract": {
     "transient": {
      "deleting": false
     }
    }
   },
   "outputs": [
    {
     "name": "stdout",
     "output_type": "stream",
     "text": [
      "NOTE: Added action set 'simple'.\n"
     ]
    },
    {
     "data": {
      "text/html": [
       "<div class=\"cas-results-key\"><b>&#167; actionset</b></div>\n",
       "<div class=\"cas-results-body\">\n",
       "<div>simple</div>\n",
       "</div>\n",
       "<div class=\"cas-output-area\"></div>\n",
       "<p class=\"cas-results-performance\"><small><span class=\"cas-elapsed\">elapsed 0.0369s</span> &#183; <span class=\"cas-user\">user 0.059s</span> &#183; <span class=\"cas-sys\">sys 0.00836s</span> &#183; <span class=\"cas-memory\">mem 1.57MB</span></small></p>"
      ],
      "text/plain": [
       "[actionset]\n",
       "\n",
       " 'simple'\n",
       "\n",
       "+ Elapsed: 0.0369s, user: 0.059s, sys: 0.00836s, mem: 1.57mb"
      ]
     },
     "execution_count": 10,
     "metadata": {},
     "output_type": "execute_result"
    }
   ],
   "source": [
    "#Interact with CAS Actions\n",
    "conn.builtins.loadactionset('simple')"
   ]
  },
  {
   "cell_type": "code",
   "execution_count": 13,
   "metadata": {
    "gather": {
     "logged": 1649270420217
    },
    "jupyter": {
     "outputs_hidden": false,
     "source_hidden": false
    },
    "nteract": {
     "transient": {
      "deleting": false
     }
    }
   },
   "outputs": [
    {
     "name": "stdout",
     "output_type": "stream",
     "text": [
      "NOTE: Information for action set 'simple':\n",
      "NOTE:    simple\n",
      "NOTE:       mdSummary - Calculates multidimensional summaries of numeric variables\n",
      "NOTE:       numRows - Shows the number of rows in a Cloud Analytic Services table\n",
      "NOTE:       summary - Generates descriptive statistics of numeric variables such as the sample mean, sample variance, sample size, sum of squares, and so on\n",
      "NOTE:       correlation - Computes Pearson product-moment correlations.\n",
      "NOTE:       regression - Performs a linear regression up to 3rd-order polynomials\n",
      "NOTE:       crossTab - Performs one-way or two-way tabulations\n",
      "NOTE:       distinct - Computes the distinct number of values of the variables in the variable list\n",
      "NOTE:       topK - Returns the top-K and bottom-K distinct values of each variable included in the variable list based on a user-specified ranking order\n",
      "NOTE:       groupBy - Builds BY groups in terms of the variable value combinations given the variables in the variable list\n",
      "NOTE:       freq - Generates a frequency distribution for one or more variables\n",
      "NOTE:       paraCoord - Generates a parallel coordinates plot of the variables in the variable list\n",
      "NOTE:       groupByInfo - Computes the index and frequency of each group, and the index of each record within its group\n",
      "NOTE:       compare - Compares two tables by computing the index and frequency of each group, cumulative frequency, and the index of each record within its group\n"
     ]
    },
    {
     "data": {
      "text/html": [
       "<div class=\"cas-results-key\"><b>&#167; simple</b></div>\n",
       "<div class=\"cas-results-body\">\n",
       "<div>\n",
       "<style scoped>\n",
       "    .dataframe tbody tr th:only-of-type {\n",
       "        vertical-align: middle;\n",
       "    }\n",
       "\n",
       "    .dataframe tbody tr th {\n",
       "        vertical-align: top;\n",
       "    }\n",
       "\n",
       "    .dataframe thead th {\n",
       "        text-align: right;\n",
       "    }\n",
       "</style>\n",
       "<table border=\"1\" class=\"dataframe\">\n",
       "  <thead>\n",
       "    <tr style=\"text-align: right;\">\n",
       "      <th title=\"\"></th>\n",
       "      <th title=\"Name\">name</th>\n",
       "      <th title=\"Description\">description</th>\n",
       "    </tr>\n",
       "  </thead>\n",
       "  <tbody>\n",
       "    <tr>\n",
       "      <td>0</td>\n",
       "      <td>mdSummary</td>\n",
       "      <td>Calculates multidimensional summaries of numer...</td>\n",
       "    </tr>\n",
       "    <tr>\n",
       "      <td>1</td>\n",
       "      <td>numRows</td>\n",
       "      <td>Shows the number of rows in a Cloud Analytic S...</td>\n",
       "    </tr>\n",
       "    <tr>\n",
       "      <td>2</td>\n",
       "      <td>summary</td>\n",
       "      <td>Generates descriptive statistics of numeric va...</td>\n",
       "    </tr>\n",
       "    <tr>\n",
       "      <td>3</td>\n",
       "      <td>correlation</td>\n",
       "      <td>Computes Pearson product-moment correlations.</td>\n",
       "    </tr>\n",
       "    <tr>\n",
       "      <td>4</td>\n",
       "      <td>regression</td>\n",
       "      <td>Performs a linear regression up to 3rd-order p...</td>\n",
       "    </tr>\n",
       "    <tr>\n",
       "      <td>5</td>\n",
       "      <td>crossTab</td>\n",
       "      <td>Performs one-way or two-way tabulations</td>\n",
       "    </tr>\n",
       "    <tr>\n",
       "      <td>6</td>\n",
       "      <td>distinct</td>\n",
       "      <td>Computes the distinct number of values of the ...</td>\n",
       "    </tr>\n",
       "    <tr>\n",
       "      <td>7</td>\n",
       "      <td>topK</td>\n",
       "      <td>Returns the top-K and bottom-K distinct values...</td>\n",
       "    </tr>\n",
       "    <tr>\n",
       "      <td>8</td>\n",
       "      <td>groupBy</td>\n",
       "      <td>Builds BY groups in terms of the variable valu...</td>\n",
       "    </tr>\n",
       "    <tr>\n",
       "      <td>9</td>\n",
       "      <td>freq</td>\n",
       "      <td>Generates a frequency distribution for one or ...</td>\n",
       "    </tr>\n",
       "    <tr>\n",
       "      <td>10</td>\n",
       "      <td>paraCoord</td>\n",
       "      <td>Generates a parallel coordinates plot of the v...</td>\n",
       "    </tr>\n",
       "    <tr>\n",
       "      <td>11</td>\n",
       "      <td>groupByInfo</td>\n",
       "      <td>Computes the index and frequency of each group...</td>\n",
       "    </tr>\n",
       "    <tr>\n",
       "      <td>12</td>\n",
       "      <td>compare</td>\n",
       "      <td>Compares two tables by computing the index and...</td>\n",
       "    </tr>\n",
       "  </tbody>\n",
       "</table>\n",
       "</div>\n",
       "</div>\n",
       "<div class=\"cas-output-area\"></div>\n",
       "<p class=\"cas-results-performance\"><small><span class=\"cas-elapsed\">elapsed 0.00735s</span> &#183; <span class=\"cas-user\">user 0.00236s</span> &#183; <span class=\"cas-sys\">sys 0.00744s</span> &#183; <span class=\"cas-memory\">mem 1.04MB</span></small></p>"
      ],
      "text/plain": [
       "[simple]\n",
       "\n",
       "            name                                        description\n",
       " 0     mdSummary  Calculates multidimensional summaries of numer...\n",
       " 1       numRows  Shows the number of rows in a Cloud Analytic S...\n",
       " 2       summary  Generates descriptive statistics of numeric va...\n",
       " 3   correlation      Computes Pearson product-moment correlations.\n",
       " 4    regression  Performs a linear regression up to 3rd-order p...\n",
       " 5      crossTab            Performs one-way or two-way tabulations\n",
       " 6      distinct  Computes the distinct number of values of the ...\n",
       " 7          topK  Returns the top-K and bottom-K distinct values...\n",
       " 8       groupBy  Builds BY groups in terms of the variable valu...\n",
       " 9          freq  Generates a frequency distribution for one or ...\n",
       " 10    paraCoord  Generates a parallel coordinates plot of the v...\n",
       " 11  groupByInfo  Computes the index and frequency of each group...\n",
       " 12      compare  Compares two tables by computing the index and...\n",
       "\n",
       "+ Elapsed: 0.00735s, user: 0.00236s, sys: 0.00744s, mem: 1.04mb"
      ]
     },
     "execution_count": 13,
     "metadata": {},
     "output_type": "execute_result"
    }
   ],
   "source": [
    "conn.help(actionset='simple')"
   ]
  },
  {
   "cell_type": "code",
   "execution_count": 14,
   "metadata": {
    "gather": {
     "logged": 1649270427658
    },
    "jupyter": {
     "outputs_hidden": false,
     "source_hidden": false
    },
    "nteract": {
     "transient": {
      "deleting": false
     }
    }
   },
   "outputs": [
    {
     "name": "stdout",
     "output_type": "stream",
     "text": [
      "NOTE: Cloud Analytic Services made the uploaded file available as table HMEQCT in caslib CASUSER(Joseph.Madden@sas.com).\n",
      "NOTE: The table HMEQCT has been created in caslib CASUSER(Joseph.Madden@sas.com) from binary data uploaded to Cloud Analytic Services.\n",
      "Selected Rows from Table HMEQCT\n",
      "\n",
      "   BAD    LOAN       MORTDUE         VALUE   REASON     JOB           YOJ  \\\n",
      "0  1.0  1100.0         25860         39025  HomeImp   Other          10.5   \n",
      "1  1.0  1300.0         70053         68400  HomeImp   Other             7   \n",
      "2  1.0  1500.0         13500         16700  HomeImp   Other             4   \n",
      "3  1.0  1500.0             .             .                              .   \n",
      "4  0.0  1700.0         97800        112000  HomeImp  Office             3   \n",
      "\n",
      "          DEROG        DELINQ         CLAGE          NINQ          CLNO  \\\n",
      "0             0             0  94.366666667             1             9   \n",
      "1             0             2  121.83333333             0            14   \n",
      "2             0             0  149.46666667             1            10   \n",
      "3             .             .             .             .             .   \n",
      "4             0             0  93.333333333             0            14   \n",
      "\n",
      "        DEBTINC  \n",
      "0             .  \n",
      "1             .  \n",
      "2             .  \n",
      "3             .  \n",
      "4             .  \n"
     ]
    }
   ],
   "source": [
    "#Load data into CAS Table \n",
    "# HMEQ data is available via https://github.com/sassoftware/sas-viya-dmml-pipelines/blob/master/data/hmeq.csv\n",
    "hmeqct = conn.read_csv('./table_HMEQ.csv', casout=dict(name='hmeqct',replace=True))\n",
    "print(hmeqct.head())"
   ]
  },
  {
   "cell_type": "code",
   "execution_count": 15,
   "metadata": {
    "gather": {
     "logged": 1649270432251
    },
    "jupyter": {
     "outputs_hidden": false,
     "source_hidden": false
    },
    "nteract": {
     "transient": {
      "deleting": false
     }
    }
   },
   "outputs": [
    {
     "name": "stdout",
     "output_type": "stream",
     "text": [
      "[Summary]\n",
      "\n",
      " Descriptive Statistics for EXPLOREHMEQCT\n",
      " \n",
      "         Column          Min            Max    N  NMiss           Mean            Sum           Std        StdErr           Var           USS           CSS          CV    TValue     ProbT  Skewness  Kurtosis\n",
      " 0        _Min_     0.000000   1.100000e+03  2.0    0.0   5.500000e+02   1.100000e+03  7.778175e+02  5.500000e+02  6.050000e+05  1.210000e+06  6.050000e+05  141.421356  1.000000  0.500000       NaN       NaN\n",
      " 1        _Max_     1.000000   8.990000e+04  2.0    0.0   4.495050e+04   8.990100e+04  6.356819e+04  4.494950e+04  4.040915e+09  8.082010e+09  4.040915e+09  141.418210  1.000022  0.499993       NaN       NaN\n",
      " 2       _NObs_  5960.000000   5.960000e+03  2.0    0.0   5.960000e+03   1.192000e+04  0.000000e+00  0.000000e+00  0.000000e+00  7.104320e+07  0.000000e+00    0.000000       NaN       NaN       NaN       NaN\n",
      " 3      _NMiss_     0.000000   0.000000e+00  2.0    0.0   0.000000e+00   0.000000e+00  0.000000e+00  0.000000e+00  0.000000e+00  0.000000e+00  0.000000e+00         NaN       NaN       NaN       NaN       NaN\n",
      " 4       _Mean_     0.199497   1.860797e+04  2.0    0.0   9.304085e+03   1.860817e+04  1.315768e+04  9.303885e+03  1.731246e+08  3.462565e+08  1.731246e+08  141.418324  1.000021  0.499993       NaN       NaN\n",
      " 5        _Sum_  1189.000000   1.109035e+08  2.0    0.0   5.545234e+07   1.109047e+08  7.841978e+07  5.545116e+07  6.149661e+15  1.229959e+16  6.149661e+15  141.418324  1.000021  0.499993       NaN       NaN\n",
      " 6        _Std_     0.399656   1.120748e+04  2.0    0.0   5.603940e+03   1.120788e+04  7.924603e+03  5.603540e+03  6.279933e+07  1.256076e+08  6.279933e+07  141.411271  1.000071  0.499977       NaN       NaN\n",
      " 7     _StdErr_     0.005177   1.451727e+02  2.0    0.0   7.258892e+01   1.451778e+02  1.026489e+02  7.258375e+01  1.053680e+04  2.107510e+04  1.053680e+04  141.411271  1.000071  0.499977       NaN       NaN\n",
      " 8        _Var_     0.159725   1.256076e+08  2.0    0.0   6.280381e+07   1.256076e+08  8.881800e+07  6.280381e+07  7.888637e+15  1.577727e+16  7.888637e+15  141.421356  1.000000  0.500000       NaN       NaN\n",
      " 9        _USS_  1189.000000   2.812185e+12  2.0    0.0   1.406092e+12   2.812185e+12  1.988515e+12  1.406092e+12  3.954192e+24  7.908383e+24  3.954192e+24  141.421356  1.000000  0.500000       NaN       NaN\n",
      " 10       _CSS_   951.798490   7.484958e+11  2.0    0.0   3.742479e+11   7.484958e+11  5.292664e+11  3.742479e+11  2.801230e+23  5.602459e+23  2.801230e+23  141.421356  1.000000  0.500000       NaN       NaN\n",
      " 11        _CV_    60.229464   2.003319e+02  2.0    0.0   1.302807e+02   2.605614e+02  9.906742e+01  7.005124e+01  9.814353e+03  4.376048e+04  9.814353e+03   76.041511  1.859792  0.314074       NaN       NaN\n",
      " 12         _T_    38.536557   1.281782e+02  2.0    0.0   8.335737e+01   1.667147e+02  6.338621e+01  4.482082e+01  4.017811e+03  1.791471e+04  4.017811e+03   76.041511  1.859792  0.314074       NaN       NaN\n",
      " 13       _PRT_     0.000000  2.720203e-290  2.0    0.0  1.360101e-290  2.720203e-290  0.000000e+00  0.000000e+00  0.000000e+00  0.000000e+00  0.000000e+00    0.000000       NaN       NaN       NaN       NaN\n",
      " 14  _Skewness_     1.504317   2.023781e+00  2.0    0.0   1.764049e+00   3.528097e+00  3.673165e-01  2.597320e-01  1.349214e-01  6.358657e+00  1.349214e-01   20.822358  6.791803  0.093065       NaN       NaN\n",
      " 15  _Kurtosis_     0.263057   6.932590e+00  2.0    0.0   3.597823e+00   7.195647e+00  4.716072e+00  3.334766e+00  2.224133e+01  4.813000e+01  2.224133e+01  131.081256  1.078883  0.475855       NaN       NaN\n",
      "\n",
      "+ Elapsed: 0.0149s, user: 0.00692s, sys: 0.0257s, mem: 7.79mb\n"
     ]
    }
   ],
   "source": [
    "#A Very Basic Example\n",
    "conn.simple.summary(\n",
    "table = 'hmeqct',\n",
    "casOut = 'exploreHMEQCT'\n",
    ")\n",
    "out = conn.summary(table='exploreHMEQCT')\n",
    "print(out)"
   ]
  },
  {
   "cell_type": "markdown",
   "metadata": {
    "nteract": {
     "transient": {
      "deleting": false
     }
    }
   },
   "source": [
    "#### Interact with CAS Actions"
   ]
  },
  {
   "cell_type": "code",
   "execution_count": 16,
   "metadata": {
    "gather": {
     "logged": 1649270439185
    },
    "jupyter": {
     "outputs_hidden": false,
     "source_hidden": false
    },
    "nteract": {
     "transient": {
      "deleting": false
     }
    }
   },
   "outputs": [
    {
     "name": "stdout",
     "output_type": "stream",
     "text": [
      "NOTE: Added action set 'regression'.\n"
     ]
    },
    {
     "data": {
      "text/html": [
       "<div class=\"cas-results-key\"><b>&#167; actionset</b></div>\n",
       "<div class=\"cas-results-body\">\n",
       "<div>regression</div>\n",
       "</div>\n",
       "<div class=\"cas-output-area\"></div>\n",
       "<p class=\"cas-results-performance\"><small><span class=\"cas-elapsed\">elapsed 0.0123s</span> &#183; <span class=\"cas-user\">user 0.00288s</span> &#183; <span class=\"cas-sys\">sys 0.0214s</span> &#183; <span class=\"cas-memory\">mem 0.795MB</span></small></p>"
      ],
      "text/plain": [
       "[actionset]\n",
       "\n",
       " 'regression'\n",
       "\n",
       "+ Elapsed: 0.0123s, user: 0.00288s, sys: 0.0214s, mem: 0.795mb"
      ]
     },
     "execution_count": 16,
     "metadata": {},
     "output_type": "execute_result"
    }
   ],
   "source": [
    "#Interact with CAS Actions\n",
    "conn.builtins.loadactionset('regression')"
   ]
  },
  {
   "cell_type": "markdown",
   "metadata": {
    "nteract": {
     "transient": {
      "deleting": false
     }
    }
   },
   "source": [
    "#### Another Example"
   ]
  },
  {
   "cell_type": "code",
   "execution_count": 19,
   "metadata": {
    "gather": {
     "logged": 1649270513711
    },
    "jupyter": {
     "outputs_hidden": false,
     "source_hidden": false
    },
    "nteract": {
     "transient": {
      "deleting": false
     }
    }
   },
   "outputs": [
    {
     "name": "stdout",
     "output_type": "stream",
     "text": [
      "NOTE: Added action set 'dataSciencePilot'.\n"
     ]
    },
    {
     "data": {
      "text/html": [
       "<div class=\"cas-results-key\"><b>&#167; actionset</b></div>\n",
       "<div class=\"cas-results-body\">\n",
       "<div>dataSciencePilot</div>\n",
       "</div>\n",
       "<div class=\"cas-output-area\"></div>\n",
       "<p class=\"cas-results-performance\"><small><span class=\"cas-elapsed\">elapsed 0.00877s</span> &#183; <span class=\"cas-user\">user 0.000559s</span> &#183; <span class=\"cas-sys\">sys 0.0154s</span> &#183; <span class=\"cas-memory\">mem 0.648MB</span></small></p>"
      ],
      "text/plain": [
       "[actionset]\n",
       "\n",
       " 'dataSciencePilot'\n",
       "\n",
       "+ Elapsed: 0.00877s, user: 0.000559s, sys: 0.0154s, mem: 0.648mb"
      ]
     },
     "execution_count": 19,
     "metadata": {},
     "output_type": "execute_result"
    }
   ],
   "source": [
    "conn.builtins.loadactionset('dataSciencePilot')"
   ]
  },
  {
   "cell_type": "code",
   "execution_count": 20,
   "metadata": {
    "gather": {
     "logged": 1649270517142
    },
    "jupyter": {
     "outputs_hidden": false,
     "source_hidden": false
    },
    "nteract": {
     "transient": {
      "deleting": false
     }
    }
   },
   "outputs": [
    {
     "name": "stdout",
     "output_type": "stream",
     "text": [
      "[Summary]\n",
      "\n",
      " Descriptive Statistics for EXPLOREDSPILOTHMEQCT\n",
      " \n",
      "                    Column          Min          Max     N  NMiss         Mean           Sum          Std      StdErr           Var           USS           CSS          CV      TValue         ProbT  Skewness   Kurtosis\n",
      " 0            MissingRated     1.000000     1.000000  12.0    1.0     1.000000     12.000000     0.000000    0.000000  0.000000e+00  1.200000e+01  0.000000e+00    0.000000         NaN           NaN       NaN        NaN\n",
      " 1        CardinalityRated     1.000000     3.000000  12.0    1.0     2.083333     25.000000     0.996205    0.287580  9.924242e-01  6.300000e+01  1.091667e+01   47.817836    7.244371  1.655968e-05 -0.191567  -2.253715\n",
      " 2            EntropyRated     2.000000     3.000000  12.0    1.0     2.833333     34.000000     0.389249    0.112367  1.515152e-01  9.800000e+01  1.666667e+00   13.738217   25.215075  4.395011e-11 -2.055237   2.640000\n",
      " 3                IQVRated     1.000000     3.000000  11.0    2.0     2.090909     23.000000     1.044466    0.314918  1.090909e+00  5.900000e+01  1.090909e+01   49.952719    6.639528  5.784550e-05 -0.212762  -2.444444\n",
      " 4                 CVRated          NaN          NaN   0.0   13.0          NaN           NaN          NaN         NaN           NaN           NaN           NaN         NaN         NaN           NaN       NaN        NaN\n",
      " 5           SkewnessRated          NaN          NaN   0.0   13.0          NaN           NaN          NaN         NaN           NaN           NaN           NaN         NaN         NaN           NaN       NaN        NaN\n",
      " 6           KurtosisRated          NaN          NaN   0.0   13.0          NaN           NaN          NaN         NaN           NaN           NaN           NaN         NaN         NaN           NaN       NaN        NaN\n",
      " 7            OutlierRated          NaN          NaN   0.0   13.0          NaN           NaN          NaN         NaN           NaN           NaN           NaN         NaN         NaN           NaN       NaN        NaN\n",
      " 8                       N  5681.000000  5960.000000  13.0    0.0  5919.153846  76949.000000    99.856435   27.695192  9.971308e+03  4.555926e+08  1.196557e+05    1.687005  213.724960  7.404589e-23 -2.193067   3.332798\n",
      " 9                   NMiss     0.000000   279.000000  13.0    0.0    40.846154    531.000000    99.856435   27.695192  9.971308e+03  1.413450e+05  1.196557e+05  244.469616    1.474846  1.660016e-01  2.193067   3.332798\n",
      " 10               MissRate     0.000000     4.681208  13.0    0.0     0.685338      8.909396     1.675444    0.464684  2.807111e+00  3.979128e+01  3.368533e+01  244.469616    1.474846  1.660016e-01  2.193067   3.332798\n",
      " 11            Cardinality     2.000000  5425.000000  13.0    0.0  1628.538462  21171.000000  2421.083043  671.487620  5.861643e+06  1.048175e+08  7.033972e+07  148.666003    2.425270  3.200793e-02  0.949852  -1.280406\n",
      " 12       CardinalityRatio     0.000336     0.910235  13.0    0.0     0.273250      3.552245     0.406218    0.112665  1.650134e-01  2.950810e+00  1.980161e+00  148.662000    2.425335  3.200412e-02  0.949856  -1.280404\n",
      " 13                Shannon     0.349752     0.984324  12.0    1.0     0.776939      9.323274     0.217991    0.062929  4.752009e-02  7.766340e+00  5.227210e-01   28.057659   12.346367  8.678174e-08 -1.191625   0.152605\n",
      " 14                   Gini     0.439394     0.999602  12.0    1.0     0.863744     10.364932     0.192886    0.055682  3.720515e-02  9.361908e+00  4.092567e-01   22.331420   15.512232  7.999262e-09 -1.593971   1.458151\n",
      " 15         VariationRatio     0.240436     0.982383  12.0    1.0     0.706590      8.479078     0.291151    0.084048  8.476900e-02  6.923690e+00  9.324590e-01   41.205116    8.406970  4.062846e-06 -0.649777  -1.366199\n",
      " 16      Top1Top2FreqRatio     1.029316  1267.000000  12.0    1.0   115.656380   1387.876559   362.952472  104.775354  1.317345e+05  1.609596e+06  1.449079e+06  313.819672    1.103851  2.932199e-01  3.451468  11.935655\n",
      " 17   Top1Bottom1FreqRatio     2.206742  4179.000000  12.0    1.0  1011.551250  12138.614998  1316.752718  380.113768  1.733838e+06  3.135105e+07  1.907221e+07  130.171627    2.661180  2.213999e-02  1.570502   1.856945\n",
      " 18                   Top1   105.000000  4527.000000  12.0    1.0  1724.500000  20694.000000  1710.018155  493.639721  2.924162e+06  6.785259e+07  3.216578e+07   99.160229    3.493438  5.028031e-03  0.667927  -1.304518\n",
      " 19                   Top2     1.000000  1780.000000  12.0    1.0   549.500000   6594.000000   615.593210  177.706453  3.789550e+05  7.791908e+06  4.168505e+06  112.027882    3.092178  1.024616e-02  0.930945  -0.351734\n",
      " 20                   Top3     1.000000   948.000000  11.0    2.0   316.000000   3476.000000   337.875717  101.873362  1.141600e+05  2.240016e+06  1.141600e+06  106.922695    3.101890  1.121449e-02  0.764456  -0.643630\n",
      " 21                Bottom1     1.000000  1780.000000  12.0    1.0   158.333333   1900.000000   511.633806  147.695958  2.617692e+05  3.180294e+06  2.879461e+06  323.137141    1.072022  3.066665e-01  3.441966  11.884460\n",
      " 22                Bottom2     1.000000  3928.000000  12.0    1.0   344.416667   4133.000000  1129.882412  326.168957  1.276634e+06  1.546645e+07  1.404298e+07  328.056834    1.055946  3.136331e-01  3.449658  11.925204\n",
      " 23                Bottom3     1.000000   767.000000  11.0    2.0    71.272727    784.000000   230.751421   69.574171  5.324622e+04  5.883400e+05  5.324622e+05  323.758371    1.024414  3.297823e-01  3.316373  10.998781\n",
      " 24                    Min          NaN          NaN   0.0   13.0          NaN           NaN          NaN         NaN           NaN           NaN           NaN         NaN         NaN           NaN       NaN        NaN\n",
      " 25                    Max          NaN          NaN   0.0   13.0          NaN           NaN          NaN         NaN           NaN           NaN           NaN         NaN         NaN           NaN       NaN        NaN\n",
      " 26                   Mean          NaN          NaN   0.0   13.0          NaN           NaN          NaN         NaN           NaN           NaN           NaN         NaN         NaN           NaN       NaN        NaN\n",
      " 27                 Median          NaN          NaN   0.0   13.0          NaN           NaN          NaN         NaN           NaN           NaN           NaN         NaN         NaN           NaN       NaN        NaN\n",
      " 28                    Std          NaN          NaN   0.0   13.0          NaN           NaN          NaN         NaN           NaN           NaN           NaN         NaN         NaN           NaN       NaN        NaN\n",
      " 29                    IQR          NaN          NaN   0.0   13.0          NaN           NaN          NaN         NaN           NaN           NaN           NaN         NaN         NaN           NaN       NaN        NaN\n",
      " 30            MomentCVPer          NaN          NaN   0.0   13.0          NaN           NaN          NaN         NaN           NaN           NaN           NaN         NaN         NaN           NaN       NaN        NaN\n",
      " 31            RobustCVPer          NaN          NaN   0.0   13.0          NaN           NaN          NaN         NaN           NaN           NaN           NaN         NaN         NaN           NaN       NaN        NaN\n",
      " 32         MomentSkewness          NaN          NaN   0.0   13.0          NaN           NaN          NaN         NaN           NaN           NaN           NaN         NaN         NaN           NaN       NaN        NaN\n",
      " 33         RobustSkewness          NaN          NaN   0.0   13.0          NaN           NaN          NaN         NaN           NaN           NaN           NaN         NaN         NaN           NaN       NaN        NaN\n",
      " 34         MomentKurtosis          NaN          NaN   0.0   13.0          NaN           NaN          NaN         NaN           NaN           NaN           NaN         NaN         NaN           NaN       NaN        NaN\n",
      " 35         RobustKurtosis          NaN          NaN   0.0   13.0          NaN           NaN          NaN         NaN           NaN           NaN           NaN         NaN         NaN           NaN       NaN        NaN\n",
      " 36  LowerOutlierMomentPer          NaN          NaN   0.0   13.0          NaN           NaN          NaN         NaN           NaN           NaN           NaN         NaN         NaN           NaN       NaN        NaN\n",
      " 37  UpperOutlierMomentPer          NaN          NaN   0.0   13.0          NaN           NaN          NaN         NaN           NaN           NaN           NaN         NaN         NaN           NaN       NaN        NaN\n",
      " 38  LowerOutlierRobustPer          NaN          NaN   0.0   13.0          NaN           NaN          NaN         NaN           NaN           NaN           NaN         NaN         NaN           NaN       NaN        NaN\n",
      " 39  UpperOutlierRobustPer          NaN          NaN   0.0   13.0          NaN           NaN          NaN         NaN           NaN           NaN           NaN         NaN         NaN           NaN       NaN        NaN\n",
      "\n",
      "+ Elapsed: 0.0171s, user: 0.0109s, sys: 0.0224s, mem: 7.99mb\n"
     ]
    }
   ],
   "source": [
    "conn.dataSciencePilot.exploreData(\n",
    "table = 'hmeqct',\n",
    "target = 'bad',\n",
    "casOut = 'exploreDSPilotHMEQCT'\n",
    ")\n",
    "out = conn.summary(table='exploreDSPilotHMEQCT')\n",
    "print(out)"
   ]
  },
  {
   "cell_type": "markdown",
   "metadata": {
    "nteract": {
     "transient": {
      "deleting": false
     }
    }
   },
   "source": [
    "Next Step - after you've built a Model\n",
    "\n",
    ".......\n",
    "\n",
    "Publish the model back into Azure\n"
   ]
  }
 ],
 "metadata": {
  "kernel_info": {
   "name": "python3-azureml"
  },
  "kernelspec": {
   "display_name": "Python 3 (ipykernel)",
   "language": "python",
   "name": "python3"
  },
  "language_info": {
   "codemirror_mode": {
    "name": "ipython",
    "version": 3
   },
   "file_extension": ".py",
   "mimetype": "text/x-python",
   "name": "python",
   "nbconvert_exporter": "python",
   "pygments_lexer": "ipython3",
   "version": "3.9.10"
  },
  "microsoft": {
   "host": {
    "AzureML": {
     "notebookHasBeenCompleted": true
    }
   }
  },
  "nteract": {
   "version": "nteract-front-end@1.0.0"
  }
 },
 "nbformat": 4,
 "nbformat_minor": 2
}
